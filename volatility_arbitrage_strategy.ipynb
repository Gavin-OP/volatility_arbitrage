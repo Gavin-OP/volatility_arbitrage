{
 "cells": [
  {
   "cell_type": "markdown",
   "metadata": {},
   "source": [
    "# Volatility Arbitrage Strategy"
   ]
  },
  {
   "cell_type": "markdown",
   "metadata": {},
   "source": [
    "## Data Cleaning\n",
    "\n",
    "- retrieve spx option data from Bloomberg\n",
    "- retrieve spx index data from yhoo finance\n",
    "- clean data\n",
    "  - unnecessary rows and columns\n",
    "  - option ticker breakdown\n",
    "  - keep options with certain expiration date which have more than 4 strikes have been traded\n",
    "  - calculate moneyness\n",
    "  - save the term structure of options\n"
   ]
  },
  {
   "cell_type": "markdown",
   "metadata": {},
   "source": [
    "## Fix Implied Volatility Surface\n",
    "\n",
    "### Find BS Implied Volatility\n",
    "\n",
    "- use put-call parity to calculate the risk-free rate and dividend yield for spx index option\n",
    "- use Black-Scholes model to calculate the implied volatility for each option\n",
    "\n",
    "### Fit BS Implied Volatility Surface\n",
    "\n",
    "- calculate the implied volatility for each option using the implied volatility of the at-the-money option with the same expiration date\n",
    "- for the same expiration date, fit the implied volatility curve against spot moneyness using function below:\n",
    "  - option 1: similar to tanh function\n",
    "    $$\n",
    "    \\sigma(x)^2 = \\sigma_{atm}^2 + \\delta\\displaystyle\\left(\\frac{\\tanh(\\kappa x)}{\\kappa}\\right) + \\frac{\\gamma}{2}\\left(\\frac{\\tanh(\\kappa x)}{\\kappa}\\right)^2,\\quad\n",
    "    \\text{where }x = \\displaystyle\\ln(\\frac{K}{S})\n",
    "    $$\n",
    "  - option 2: similar to sigmoid function\n",
    "- for different expiration date, for same moneyness, connect the implied volatility curve using cubic spline interpolation\n",
    "\n",
    "### Convert BS Implied Volatility Surface to Local Volatility Surface\n",
    "\n",
    "- use Dupire's formula to calculate the local volatility for each option\n",
    "![BS vs Local](./Public/BS_vs_local_var.png)"
   ]
  },
  {
   "cell_type": "markdown",
   "metadata": {},
   "source": [
    "## Trading Strategy\n",
    "\n",
    "- if the implied volatility of an option is higher than the local volatility, then sell the option"
   ]
  },
  {
   "cell_type": "markdown",
   "metadata": {},
   "source": [
    "## Backtesting"
   ]
  },
  {
   "cell_type": "markdown",
   "metadata": {},
   "source": [
    "# Reference\n",
    "\n",
    "[SPX vs. SPXW Options: Understanding the Key Differences](https://insideoptions.io/spx-spxw-options-differences/)  \n",
    "[Cubic Spline Interpolation](https://en.wikipedia.org/wiki/Spline_interpolation#Algorithm_to_find_the_interpolating_cubic_spline)"
   ]
  }
 ],
 "metadata": {
  "kernelspec": {
   "display_name": "Python 3",
   "language": "python",
   "name": "python3"
  },
  "language_info": {
   "name": "python",
   "version": "3.12.0"
  }
 },
 "nbformat": 4,
 "nbformat_minor": 2
}
