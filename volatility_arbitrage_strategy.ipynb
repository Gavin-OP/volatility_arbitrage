{
 "cells": [
  {
   "cell_type": "markdown",
   "metadata": {},
   "source": [
    "# Volatility Arbitrage Strategy"
   ]
  },
  {
   "cell_type": "code",
   "execution_count": 1,
   "metadata": {},
   "outputs": [],
   "source": [
    "# import all necessary library\n",
    "import pandas as pd \n",
    "import numpy as np \n",
    "import os"
   ]
  },
  {
   "cell_type": "markdown",
   "metadata": {},
   "source": [
    "## Data Cleaning\n",
    "\n",
    "- retrieve spx option data from Bloomberg\n",
    "- retrieve spx index data from yhoo finance\n",
    "- clean data\n",
    "  - unnecessary rows and columns\n",
    "  - option ticker breakdown\n",
    "  - keep options with certain expiration date which have more than 4 strikes have been traded\n",
    "  - calculate moneyness\n",
    "  - save the term structure of options\n"
   ]
  },
  {
   "cell_type": "code",
   "execution_count": 27,
   "metadata": {},
   "outputs": [
    {
     "name": "stdout",
     "output_type": "stream",
     "text": [
      "  Strike              Ticker         Bid         Ask        Last        IVM  \\\n",
      "1   4470  SPX 10/20/23 C4470  120.500000  122.100006  137.449997  12.142555   \n",
      "2   4475  SPX 10/20/23 C4475  116.900009  118.500000  111.020004  12.066501   \n",
      "3   4480  SPX 10/20/23 C4480  113.300003  114.900009    0.000000  11.984125   \n",
      "4   4485  SPX 10/20/23 C4485  109.800003  111.300003  111.850006  11.903403   \n",
      "5   4490  SPX 10/20/23 C4490  106.300003  107.900009    0.000000  11.832068   \n",
      "\n",
      "    Volm  Strike.1            Ticker.1      Bid.1      Ask.1     Last.1  \\\n",
      "1    1.0    4470.0  SPX 10/20/23 P4470  50.100006  50.900009  50.400009   \n",
      "2   18.0    4475.0  SPX 10/20/23 P4475  51.500000  52.300003  51.800003   \n",
      "3    0.0    4480.0  SPX 10/20/23 P4480  52.799988  53.799988  54.400009   \n",
      "4  600.0    4485.0  SPX 10/20/23 P4485  54.199997  55.199997  55.699997   \n",
      "5    0.0    4490.0  SPX 10/20/23 P4490  55.699997  56.699997  60.680008   \n",
      "\n",
      "       IVM.1  Volm.1    Expiry Type  Expiry.1 Type.1  \n",
      "1  12.562401   102.0  10/20/23    C  10/20/23      P  \n",
      "2  12.487633   271.0  10/20/23    C  10/20/23      P  \n",
      "3  12.408020    12.0  10/20/23    C  10/20/23      P  \n",
      "4  12.322200   608.0  10/20/23    C  10/20/23      P  \n",
      "5  12.245975     7.0  10/20/23    C  10/20/23      P  \n"
     ]
    }
   ],
   "source": [
    "# import option data csv file\n",
    "os.chdir('D:/Github/volatility_arbitrage/SPX_option_price/20230901/')\n",
    "option_data = pd.read_csv('spx_option_0901.csv')\n",
    "\n",
    "option_data = option_data.dropna()\n",
    "\n",
    "# ticker breakdown for call\n",
    "option_data[['index', 'Expiry', 'strike']] = option_data['Ticker'].str.split(' ', expand=True)\n",
    "option_data['Type'] = option_data['strike'].str[0]\n",
    "option_data.drop(['index', 'strike'], axis=1, inplace=True)\n",
    "\n",
    "# ticker breakdown for put\n",
    "option_data[['index', 'Expiry.1', 'strike']] = option_data['Ticker.1'].str.split(' ', expand=True)\n",
    "option_data['Type.1'] = option_data['strike'].str[0]\n",
    "option_data.drop(['index', 'strike'], axis=1, inplace=True)\n",
    "\n",
    "call_data = option_data.iloc[:, :7]\n",
    "put_data = option_data.iloc[:, 7:]\n",
    "\n",
    "print(option_data.head())\n",
    "# print(call_data.head())\n",
    "# print(put_data.head())\n"
   ]
  },
  {
   "cell_type": "markdown",
   "metadata": {},
   "source": [
    "## Fix Implied Volatility Surface\n",
    "\n",
    "### Find BS Implied Volatility\n",
    "\n",
    "- use put-call parity to calculate the risk-free rate and dividend yield for spx index option\n",
    "- use Black-Scholes model to calculate the implied volatility for each option\n",
    "\n",
    "### Fit BS Implied Volatility Surface\n",
    "\n",
    "- calculate the implied volatility for each option using the implied volatility of the at-the-money option with the same expiration date\n",
    "- for the same expiration date, fit the implied volatility curve against spot moneyness using function below:\n",
    "  - option 1: similar to tanh function\n",
    "    $$\n",
    "    \\sigma(x)^2 = \\sigma_{atm}^2 + \\delta\\displaystyle\\left(\\frac{\\tanh(\\kappa x)}{\\kappa}\\right) + \\frac{\\gamma}{2}\\left(\\frac{\\tanh(\\kappa x)}{\\kappa}\\right)^2,\\quad\n",
    "    \\text{where }x = \\displaystyle\\ln(\\frac{K}{S})\n",
    "    $$\n",
    "  - option 2: similar to sigmoid function\n",
    "- for different expiration date, for same moneyness, connect the implied volatility curve using cubic spline interpolation\n",
    "\n",
    "### Convert BS Implied Volatility Surface to Local Volatility Surface\n",
    "\n",
    "- use Dupire's formula to calculate the local volatility for each option\n",
    "![BS vs Local](./Public/BS_vs_local_var.png)"
   ]
  },
  {
   "cell_type": "markdown",
   "metadata": {},
   "source": [
    "## Trading Strategy\n",
    "\n",
    "- if the implied volatility of an option is higher than the local volatility, then sell the option"
   ]
  },
  {
   "cell_type": "markdown",
   "metadata": {},
   "source": [
    "## Backtesting"
   ]
  },
  {
   "cell_type": "markdown",
   "metadata": {},
   "source": [
    "# Reference\n",
    "\n",
    "[SPX vs. SPXW Options: Understanding the Key Differences](https://insideoptions.io/spx-spxw-options-differences/)  \n",
    "[Cubic Spline Interpolation](https://en.wikipedia.org/wiki/Spline_interpolation#Algorithm_to_find_the_interpolating_cubic_spline)"
   ]
  }
 ],
 "metadata": {
  "kernelspec": {
   "display_name": "Python 3",
   "language": "python",
   "name": "python3"
  },
  "language_info": {
   "codemirror_mode": {
    "name": "ipython",
    "version": 3
   },
   "file_extension": ".py",
   "mimetype": "text/x-python",
   "name": "python",
   "nbconvert_exporter": "python",
   "pygments_lexer": "ipython3",
   "version": "3.11.5"
  }
 },
 "nbformat": 4,
 "nbformat_minor": 2
}
